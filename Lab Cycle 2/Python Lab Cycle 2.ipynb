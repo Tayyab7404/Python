{
 "cells": [
  {
   "cell_type": "markdown",
   "id": "6dafdb64",
   "metadata": {},
   "source": [
    "# Question 1\n",
    "1. Find and display the total ticket cost for a group which had adults and children.\n",
    "The flight ticket rates for a round-trip (Mumbai->Dubai) were as follows: \n",
    "- Rate per Adult: Rs. 37550.0 \n",
    "- Rate per Child: 1/3rd of the rate per adult \n",
    "- Service Tax: 7% of the ticket amount (including all passengers) \n",
    "- As it was a holiday season, the airline also offered 10% discount on the final ticket cost (after inclusion of the service tax)."
   ]
  },
  {
   "cell_type": "code",
   "execution_count": 1,
   "id": "aa76fe83",
   "metadata": {},
   "outputs": [
    {
     "name": "stdout",
     "output_type": "stream",
     "text": [
      "Enter number of Adults: 5\n",
      "Enter number of Children: 2\n",
      "Total Ticket cost =  204910.35\n"
     ]
    }
   ],
   "source": [
    "# Program 1:\n",
    "\n",
    "A = int(input(\"Enter number of Adults: \")) \n",
    "C = int(input(\"Enter number of Children: \"))\n",
    "\n",
    "cost = A * 37550 + C * (37550/3) # Actual amount\n",
    "cost += (0.07 * cost) # Service Tax = 7%\n",
    "cost -= (0.1 * cost) # Discount = 10%\n",
    "\n",
    "print(\"Total Ticket cost = \",cost)"
   ]
  },
  {
   "cell_type": "markdown",
   "id": "8877993f",
   "metadata": {},
   "source": [
    "# Question 2\n",
    "2. Write a python program to find and display the product of three positive integer values based on the rule mentioned below:\n",
    "\n",
    "- It should display the product of the three values except when one of the integer value is 7. \n",
    "- In that case, 7 should not be included in the product and the values to its left also should not be included.\n",
    "- If there is only one value to be considered, display that value itself. If no values can be included in the product, display -1.\n",
    "\n",
    "- Note: Assume that if 7 is one of the positive integer values, then it will occur only once.\n"
   ]
  },
  {
   "cell_type": "code",
   "execution_count": 2,
   "id": "3d6c24c4",
   "metadata": {},
   "outputs": [
    {
     "name": "stdout",
     "output_type": "stream",
     "text": [
      "Enter three numbers: 1 5 3\n",
      "15\n"
     ]
    }
   ],
   "source": [
    "# Program 2:\n",
    "\n",
    "a = []\n",
    "\n",
    "while len(a) != 3:\n",
    "    a = [int(x) for x in input(\"Enter three numbers: \").split()]\n",
    "\n",
    "if 7 in a:\n",
    "    if a.index(7)==0:\n",
    "        ans = a[1]*a[2]\n",
    "    elif a.index(7)==1:\n",
    "        ans = a[2]\n",
    "    else:\n",
    "        ans = -1\n",
    "\n",
    "else:\n",
    "    ans = a[0]*a[1]*a[2]\n",
    "\n",
    "print(ans)"
   ]
  },
  {
   "cell_type": "markdown",
   "id": "716c467c",
   "metadata": {},
   "source": [
    "# Question 3\n",
    "3. You have x no. of 5 rupee coins and y no. of 1 rupee coins. You want to purchase an item for amount z. The shopkeeper wants you to provide exact change. You want to pay using minimum number of coins. How many 5 rupee coins and 1 rupee coins will you use? If exact change is not possible then display -1."
   ]
  },
  {
   "cell_type": "code",
   "execution_count": 4,
   "id": "22a36df1",
   "metadata": {},
   "outputs": [
    {
     "name": "stdout",
     "output_type": "stream",
     "text": [
      "Enter number of 1 rupee coins available: 5\n",
      "Enter number of 5 rupee coins available: 6\n",
      "Enter amount to be paid: 20\n",
      "1 rupee coins needed =  0 \t5 rupee coins needed =  4\n"
     ]
    }
   ],
   "source": [
    "# Program 3:\n",
    "\n",
    "rupee_1 = int(input(\"Enter number of 1 rupee coins available: \"))\n",
    "rupee_5 = int(input(\"Enter number of 5 rupee coins available: \"))\n",
    "amount = int(input(\"Enter amount to be paid: \"))\n",
    "\n",
    "if (rupee_1 + rupee_5*5) == amount:\n",
    "    print(\"1 rupee coins needed = \",rupee_1,\"\\t5 rupee coins needed = \",rupee_5)\n",
    "\n",
    "elif (rupee_1 + rupee_5*5) > amount:\n",
    "    coins_5 = amount//5\n",
    "    if coins_5>rupee_5:\n",
    "        coins_5 = rupee_5\n",
    "    coins_1 = amount - (coins_5*5)\n",
    "    print(\"1 rupee coins needed = \",coins_1,\"\\t5 rupee coins needed = \",coins_5)\n",
    "\n",
    "else:\n",
    "    print(-1)"
   ]
  },
  {
   "cell_type": "markdown",
   "id": "fa83d066",
   "metadata": {},
   "source": [
    "# Question 4\n",
    "4. Write a python program to solve a classic ancient Chinese puzzle.\n",
    "We count 35 heads and 94 legs among the chickens and rabbits in a farm. How many rabbits and how many chickens do we have?"
   ]
  },
  {
   "cell_type": "code",
   "execution_count": 6,
   "id": "39b57e39",
   "metadata": {},
   "outputs": [
    {
     "name": "stdout",
     "output_type": "stream",
     "text": [
      "Enter number of heads: 150\n",
      "Enter number of legs: 400\n",
      "Chickens =  100\n",
      "Rabbits =  50\n"
     ]
    }
   ],
   "source": [
    "# Program 4:\n",
    "\n",
    "heads = int(input(\"Enter number of heads: \"))\n",
    "legs = int(input(\"Enter number of legs: \"))\n",
    "\n",
    "chickens = abs((4*heads) - legs) // 2\n",
    "rabbits = abs((2*heads) - legs) // 2\n",
    "\n",
    "if chickens + rabbits != heads:\n",
    "    print(\"No solution\")\n",
    "\n",
    "else:\n",
    "    print(\"Chickens = \",chickens)\n",
    "    print(\"Rabbits = \",rabbits)"
   ]
  },
  {
   "cell_type": "markdown",
   "id": "85574f53",
   "metadata": {},
   "source": [
    "# Question 5\n",
    "5. Write a python program which finds the maximum number from num1 to num2 (num2 inclusive) based on the following rules.\n",
    " \n",
    "- Always num1 should be less than num2\n",
    "- Consider each number from num1 to num2 (num2 inclusive). Populate the number into a list, if the below conditions are satisfied\n",
    "      - Sum of the digits of the number is a multiple of 3\n",
    "      - Number has only two digits\n",
    "      - Number is a multiple of 5\n",
    "- Display the maximum element from the list\n",
    "- In case of any invalid data or if the list is empty, display -1.\n"
   ]
  },
  {
   "cell_type": "code",
   "execution_count": 7,
   "id": "c23df182",
   "metadata": {},
   "outputs": [
    {
     "name": "stdout",
     "output_type": "stream",
     "text": [
      "Enter 1st number: 20\n",
      "Enter 2nd number: 100\n",
      "90\n"
     ]
    }
   ],
   "source": [
    "# Program 5:\n",
    "\n",
    "num1 = int(input(\"Enter 1st number: \"))\n",
    "num2 = int(input(\"Enter 2nd number: \"))\n",
    "\n",
    "L = []\n",
    "\n",
    "if num1<num2:\n",
    "    for i in range(num1, num2+1):\n",
    "        if len(str(i)) == 2:\n",
    "            if i%5 == 0:\n",
    "                if (i//10 + i%10) % 3 == 0:\n",
    "                    L.append(i)\n",
    "\n",
    "if len(L)==0:\n",
    "    print(-1)\n",
    "else:\n",
    "    print(max(L))"
   ]
  },
  {
   "cell_type": "markdown",
   "id": "3ee3542b",
   "metadata": {},
   "source": [
    "# Question 6\n",
    "6. Given a list of integer values. \n",
    "    - Write a python program to check whether it contains same number in adjacent position. \n",
    "    - Display the count of such adjacent occurrences"
   ]
  },
  {
   "cell_type": "code",
   "execution_count": 9,
   "id": "4060c189",
   "metadata": {},
   "outputs": [
    {
     "name": "stdout",
     "output_type": "stream",
     "text": [
      "Enter the elements: 1,1,5,100,-20,-20,6,0,0\n",
      "3\n"
     ]
    }
   ],
   "source": [
    "# Program 6:\n",
    "\n",
    "L = [int(x) for x in input(\"Enter the elements: \").split(',')]\n",
    "\n",
    "count = 0\n",
    "\n",
    "for i in range(len(L)-1):\n",
    "    if L[i] == L[i+1]:\n",
    "        count += 1\n",
    "\n",
    "print(count)"
   ]
  },
  {
   "cell_type": "markdown",
   "id": "966ee1cf",
   "metadata": {},
   "source": [
    "# Question 7\n",
    "7. Write a python program which displays the count of the names that matches a given pattern from a list of names provided.\n",
    "- Consider the pattern characters to be:\n",
    "    - \"_ at\" where \"_\" can be one occurrence of any character\n",
    "    - \"%at%\" where \"%\" can have zero or any number of occurrences of a character"
   ]
  },
  {
   "cell_type": "code",
   "execution_count": 1,
   "id": "cc2e88d4",
   "metadata": {},
   "outputs": [
    {
     "name": "stdout",
     "output_type": "stream",
     "text": [
      "Enter the words: Hat, Cat, Rabbit, Matter\n",
      "_at -> 2\n",
      "%at% -> 3\n"
     ]
    }
   ],
   "source": [
    "# Program 7:\n",
    "\n",
    "words = [i for i in input(\"Enter the words: \").split(',')]\n",
    "\n",
    "n1 = n2 = 0\n",
    "\n",
    "for i in words:\n",
    "    if 'at' in i:\n",
    "        n2+=1\n",
    "        if i.endswith('at'):\n",
    "            n1+=1\n",
    "            \n",
    "print(f\"_at -> {n1}\\n%at% -> {n2}\")"
   ]
  },
  {
   "cell_type": "markdown",
   "id": "bcb8375d",
   "metadata": {},
   "source": [
    "# Question 8\n",
    "8. Write a Python program to generate the next 15 leap years starting from a given year. Populate the leap years into a list and display the list. "
   ]
  },
  {
   "cell_type": "code",
   "execution_count": 5,
   "id": "7d60d500",
   "metadata": {},
   "outputs": [
    {
     "name": "stdout",
     "output_type": "stream",
     "text": [
      "Enter the starting year: 1890\n",
      "The first 15 leap years from 1890 are [1892, 1896, 1904, 1908, 1912, 1916, 1920, 1924, 1928, 1932, 1936, 1940, 1944, 1948, 1952]\n"
     ]
    }
   ],
   "source": [
    "# Program 8:\n",
    "\n",
    "def isLeapYear(y):\n",
    "    if (y%400 == 0) or (y%4 == 0 and y%100 != 0):\n",
    "        return True\n",
    "    return False\n",
    "\n",
    "y = int(input(\"Enter the starting year: \"))\n",
    "\n",
    "n = y\n",
    "\n",
    "LeapYears = []\n",
    "\n",
    "while len(LeapYears) < 15:\n",
    "    if isLeapYear(y+1):\n",
    "        LeapYears.append(y+1)\n",
    "    y += 1\n",
    "\n",
    "print(f\"The first 15 leap years from {n} are {LeapYears}\")"
   ]
  },
  {
   "cell_type": "markdown",
   "id": "2704cb3c",
   "metadata": {},
   "source": [
    "# Question 9\n",
    "9. Write a python function, create_largest_number(), which accepts a list of numbers and returns the largest number possible by concatenating the list of numbers.\n",
    " \n",
    "\n",
    "- Note: Assume that all the numbers are two digit numbers.\n"
   ]
  },
  {
   "cell_type": "code",
   "execution_count": 8,
   "id": "9cf4337a",
   "metadata": {},
   "outputs": [
    {
     "name": "stdout",
     "output_type": "stream",
     "text": [
      "Enter the numbers: 22 34 56\n",
      "The largest number possible from the given numbers is: 563422\n"
     ]
    }
   ],
   "source": [
    "# Program 9:\n",
    "\n",
    "def create_largest_number(L):\n",
    "    L.sort(reverse = True)\n",
    "    max = ''\n",
    "    for n in L:\n",
    "        max += str(n)\n",
    "    return int(max)\n",
    "\n",
    "L = [int(n) for n in input(\"Enter the numbers: \").split()]\n",
    "\n",
    "print(f\"The largest number possible from the given numbers is: {create_largest_number(L)}\")"
   ]
  },
  {
   "cell_type": "markdown",
   "id": "179270b7",
   "metadata": {},
   "source": [
    "# Question 10\n",
    "10. Given a string containing uppercase characters (A-Z), compress the string using Run Length encoding. Repetition of character has to be replaced by storing the length of that run.\n",
    "\n",
    "- Write a python function which performs the run length encoding for a given String and returns the run length encoded String.\n",
    "\n",
    "- Provide different String values and test your program\n"
   ]
  },
  {
   "cell_type": "code",
   "execution_count": 10,
   "id": "1af72d4e",
   "metadata": {},
   "outputs": [
    {
     "name": "stdout",
     "output_type": "stream",
     "text": [
      "Enter the string: AAAABBBBCCCCCCCC\n",
      "RLE code for 'AAAABBBBCCCCCCCC' is '4A4B8C'\n"
     ]
    }
   ],
   "source": [
    "# Program 10:\n",
    "\n",
    "def RLE(s):\n",
    "    RLEcode =''\n",
    "    n = len(s)\n",
    "    i = 0\n",
    "    \n",
    "    while i < n:\n",
    "        count = 1\n",
    "        while (i+1 < n and s[i] == s[i + 1]):\n",
    "            count += 1\n",
    "            i += 1\n",
    "        i += 1\n",
    "        RLEcode += str(count) + s[i - 1]\n",
    "    return RLEcode\n",
    "\n",
    "s = input(\"Enter the string: \")\n",
    "\n",
    "print(f\"RLE code for '{s}' is '{RLE(s)}'\")"
   ]
  },
  {
   "cell_type": "markdown",
   "id": "70c81331",
   "metadata": {},
   "source": [
    "# Question 11\n",
    "11. Represent a small bilingual (English-Swedish) glossary given below as a Python dictionary \n",
    "\n",
    "    - {\"merry\":\"god\", \"Christmas\":\"jul\", \"and\":\"och\", \"happy\":\"gott\", \"new\":\"nytt\", \"year\":\"ar\"} \n",
    "\n",
    "- Use it to translate your Christmas wishes from English into Swedish.\n",
    "- Write a python function translate() that accepts the bilingual dictionary and a list of English words (your Christmas wish) and returns a list of equivalent Swedish words. \n"
   ]
  },
  {
   "cell_type": "code",
   "execution_count": 11,
   "id": "373a3464",
   "metadata": {},
   "outputs": [
    {
     "name": "stdout",
     "output_type": "stream",
     "text": [
      "Give your wishes in English: Merry Christmas and Happy New Year\n",
      "God Jul och Gott Nytt Ar\n"
     ]
    }
   ],
   "source": [
    "# Program 11:\n",
    "\n",
    "def translate(d, wishes):\n",
    "    words = wishes.title().split()\n",
    "    swedish = []\n",
    "    for i in words:\n",
    "        swedish.append(d.get(i))\n",
    "    return \" \".join(swedish)\n",
    "\n",
    "d = {\"Merry\":\"God\",\n",
    "     \"Christmas\":\"Jul\",\n",
    "     \"And\":\"och\",\n",
    "     \"Happy\":\"Gott\",\n",
    "     \"New\":\"Nytt\",\n",
    "     \"Year\":\"Ar\"} \n",
    "\n",
    "wishes = input(\"Give your wishes in English: \")\n",
    "print(translate(d, wishes))"
   ]
  },
  {
   "cell_type": "markdown",
   "id": "f0c10bf7",
   "metadata": {},
   "source": [
    "# Question 12\n",
    "12. We have ‘N’ flavors of toppings that can be added to a coffee. For example chocolate, hazelnut, vanilla, Irish and so on. \n",
    "\n",
    "- Write a function that takes the number of available flavors as input and returns the total number of different ways we can have our coffee. Note that we can have coffee without any toppings or with different combination of toppings. \n"
   ]
  },
  {
   "cell_type": "code",
   "execution_count": 12,
   "id": "9c737670",
   "metadata": {},
   "outputs": [
    {
     "name": "stdout",
     "output_type": "stream",
     "text": [
      "Enter number of flavours of toppings: 7\n",
      "Number of combinations of coffee:  128\n"
     ]
    }
   ],
   "source": [
    "# Program 12:\n",
    "\n",
    "def no_of_combis(n):\n",
    "    return 2**n\n",
    "\n",
    "n = int(input(\"Enter number of flavours of toppings: \"))\n",
    "\n",
    "print(\"Number of combinations of coffee: \", no_of_combis(n))"
   ]
  },
  {
   "cell_type": "markdown",
   "id": "e227cb59",
   "metadata": {},
   "source": [
    "# Question 13\n",
    "13. Write a python program to display all the common characters between two strings. Return -1 if there are no matching characters.\n",
    "- Note: Ignore blank spaces if there are any. Perform case sensitive string comparison wherever necessary.\n"
   ]
  },
  {
   "cell_type": "code",
   "execution_count": 17,
   "id": "32044178",
   "metadata": {},
   "outputs": [
    {
     "name": "stdout",
     "output_type": "stream",
     "text": [
      "Enter first sentence: I like Python\n",
      "Enter second sentence: Java is a very popular language\n",
      "Common characters between given sentences: lieyon\n"
     ]
    }
   ],
   "source": [
    "# Program 13:\n",
    "\n",
    "s1 = input(\"Enter first sentence: \")\n",
    "s2 = input(\"Enter second sentence: \")\n",
    "\n",
    "s = \"\"\n",
    "\n",
    "for i in min(s1,s2):\n",
    "    if i in max(s1,s2) and i != \" \":\n",
    "        s += i\n",
    "\n",
    "if len(s) == 0:\n",
    "    print(-1)\n",
    "    \n",
    "else:\n",
    "    print(\"Common characters between given sentences:\",s)"
   ]
  },
  {
   "cell_type": "markdown",
   "id": "2b0c45a9",
   "metadata": {},
   "source": [
    "# Question 14\n",
    "14. Write a python function, encrypt_sentence() which accepts a message and encrypts it based on rules given below and returns the encrypted message.\n",
    "\n",
    "    - Words at odd position -> Reverse It\n",
    "    - Words at even position -> Rearrange the characters so that all consonants appear before the vowels and their order should not change\n",
    "- Note: \n",
    "1.\tAssume that the sentence would begin with a word and there will be only a single space between the words.\n",
    "2.\tPerform case sensitive string operations wherever necessary.\n"
   ]
  },
  {
   "cell_type": "code",
   "execution_count": 18,
   "id": "7a54d2d9",
   "metadata": {},
   "outputs": [
    {
     "name": "stdout",
     "output_type": "stream",
     "text": [
      "Enter your message: the sun rises in the east\n",
      "eht snu sesir ni eht stea\n"
     ]
    }
   ],
   "source": [
    "# Program 14:\n",
    "\n",
    "def rearrange(s):\n",
    "    vowels = \"\"\n",
    "    consonants = \"\"\n",
    "    for i in s:\n",
    "        if i in \"aeiouAEIOU\":\n",
    "            vowels+=i\n",
    "        else:\n",
    "            consonants+=i\n",
    "    return consonants+vowels\n",
    "\n",
    "def encrypt_message(msg):\n",
    "    words = msg.split()\n",
    "    encrypted = []\n",
    "    for i in range(len(words)):\n",
    "        if i%2 == 0:\n",
    "            encrypted.append(words[i][::-1])\n",
    "        else:\n",
    "            encrypted.append(rearrange(words[i]))\n",
    "    return \" \".join(encrypted)\n",
    "\n",
    "msg = input(\"Enter your message: \")\n",
    "\n",
    "print(encrypt_message(msg))"
   ]
  },
  {
   "cell_type": "markdown",
   "id": "c8941479",
   "metadata": {},
   "source": [
    "# Question 15\n",
    "15. Care hospital wants to know the medical specialty visited by the maximum number of patients. Assume that the patient id of the patient along with the medical specialty visited by the patient is stored in a list. The details of the medical specialties are stored in a dictionary as follows: \n",
    "    - {\"P\":\"Pediatrics\", \"O\":\"Orthopedics\", \"E\":\"ENT} \n",
    "\n",
    "- Write a function to find the medical specialty visited by the maximum number of patients and return the name of the specialty.\n",
    "\n",
    "- Note: \n",
    "1.\tAssume that there is always only one medical specialty which is visited by maximum number of patients.\n",
    "2.\tPerform case sensitive string comparison wherever necessary.\n"
   ]
  },
  {
   "cell_type": "code",
   "execution_count": 20,
   "id": "d6439c49",
   "metadata": {},
   "outputs": [
    {
     "name": "stdout",
     "output_type": "stream",
     "text": [
      "Enter id of patients along with specialities visited: 101,O,102,O,302,P,305,E,401,O,656,O\n",
      "Maximum visited speciality in the hospital:  Orthopedics\n"
     ]
    }
   ],
   "source": [
    "# Program 15:\n",
    "\n",
    "def get_key(d, val):\n",
    "    for key, value in d.items():\n",
    "        if val == value:\n",
    "            return key\n",
    "    return 'key doesnot exist'\n",
    "\n",
    "specialities = {\"P\":\"Pediatrics\",\n",
    "                \"O\":\"Orthopedics\",\n",
    "                \"E\":\"ENT\"}\n",
    "\n",
    "patients = {\"P\":0,\n",
    "            \"O\":0,\n",
    "            \"E\":0}\n",
    "\n",
    "l = input(\"Enter id of patients along with specialities visited: \").split(',')\n",
    "\n",
    "for i in range(1,len(l), +2):\n",
    "    patients[l[i]] += 1\n",
    "\n",
    "m = max(patients.values())\n",
    "print(\"Maximum visited speciality in the hospital: \", specialities[get_key(patients, m)])"
   ]
  },
  {
   "cell_type": "markdown",
   "id": "d6516a09",
   "metadata": {},
   "source": [
    "# Question 16\n",
    "16. Write python function, sms_encoding() which accepts a sentence and converts it into an abbreviated sentence to be sent as SMS and returns the abbreviated sentence. \n",
    "\n",
    "- Rules are as follows: \n",
    "1. Spaces are to be retained as it is \n",
    "2. Each word should be encoded separately\n",
    "    - If a word has only vowels then retain the word as is\n",
    "    - If a word has a consonant (at least 1) then retain only those consonants\n",
    "- Note: Assume that the sentence would begin with a word and there will be only a single space between the words.\n"
   ]
  },
  {
   "cell_type": "code",
   "execution_count": 21,
   "id": "fc8c12ee",
   "metadata": {},
   "outputs": [
    {
     "name": "stdout",
     "output_type": "stream",
     "text": [
      "Enter a sentence: MSD says I love cricket and tennis too\n",
      "MSD sys I lv crckt nd tnns t \n"
     ]
    }
   ],
   "source": [
    "# Program 16:\n",
    "\n",
    "def is_vowel_word(word):\n",
    "    for i in word:\n",
    "        if i not in \"aeiouAEIOU\":\n",
    "            return False\n",
    "    return True\n",
    "\n",
    "def sms_encoding(s):\n",
    "    msg = s.split()\n",
    "    sms=''\n",
    "    for i in msg:\n",
    "        if is_vowel_word(i):\n",
    "            sms += i + ' '\n",
    "            continue\n",
    "        for j in i:\n",
    "            if j not in \"aeiouAEIOU\":\n",
    "                sms += j\n",
    "        sms += \" \"\n",
    "        \n",
    "    return sms\n",
    "\n",
    "s = input(\"Enter a sentence: \")\n",
    "\n",
    "sms = sms_encoding(s)\n",
    "\n",
    "print(sms)"
   ]
  },
  {
   "cell_type": "markdown",
   "id": "14bdc2fa",
   "metadata": {},
   "source": [
    "# Question 17\n",
    "17. Write a python program that accepts a text and displays a string which contains the word with the largest frequency in the text and the frequency itself separated by a space.\n",
    "- Rules:\n",
    "1.\tThe word should have the largest frequency.\n",
    "2.\tIn case multiple words have the same frequency, then choose the word that has the maximum length.\n",
    "- Assumptions:\n",
    "1.\tThe text has no special characters other than space.\n",
    "2.\tThe text would begin with a word and there will be only a single space between the words.\n",
    "- Perform case insensitive string comparisons wherever necessary."
   ]
  },
  {
   "cell_type": "code",
   "execution_count": 25,
   "id": "490270c2",
   "metadata": {},
   "outputs": [
    {
     "name": "stdout",
     "output_type": "stream",
     "text": [
      "Enter the text: Courage is not the absence of fear but rather the judgement that something else is more important than fear\n",
      "The word with highest frequency is 'fear' with a frequency of 2\n"
     ]
    }
   ],
   "source": [
    "# Program 17:\n",
    "\n",
    "def largest(d):\n",
    "    k = list(d.keys())\n",
    "    vals = list(d.values())\n",
    "\n",
    "    large = []\n",
    "\n",
    "    m = max(vals)\n",
    "\n",
    "    if vals.count(m) > 1:\n",
    "        for i in range(len(vals)):\n",
    "            if m == vals[i]:\n",
    "                large.append(k[i])\n",
    "    lens = [len(i) for i in large]\n",
    "    \n",
    "    return (large[lens.index(max(lens))], m)\n",
    "\n",
    "text = input(\"Enter the text: \").split()\n",
    "words = []\n",
    "\n",
    "for i in text:\n",
    "    if i not in words:\n",
    "        words.append(i)\n",
    "\n",
    "d = {}\n",
    "for i in words:\n",
    "    d.update({i : text.count(i)})\n",
    "\n",
    "w, freq = largest(d)\n",
    "print(f\"The word with highest frequency is '{w}' with a frequency of {freq}\")"
   ]
  },
  {
   "cell_type": "markdown",
   "id": "14c1aa0d",
   "metadata": {},
   "source": [
    "# Question 18\n",
    "18. Write a Python function check_amicable_numbers(num1, num2) that accepts two numbers num1 and num2 as arguments and returns True if the given pair of numbers are amicable numbers else return false. Invoke the function and based on return value print the numbers are amicable numbers or not.\n",
    "- num1 and num2 are said to be amicable numbers if sum of all the proper devisors (except num1 itself) of num1 is equal to num2 and sum of all the proper devisors of num2 (except num1 itself) is equal to num1.\n"
   ]
  },
  {
   "cell_type": "code",
   "execution_count": 26,
   "id": "d6aad9d1",
   "metadata": {},
   "outputs": [
    {
     "name": "stdout",
     "output_type": "stream",
     "text": [
      "Enter first number: 220\n",
      "Enter second number: 284\n",
      "'220' and '284' are amicable number pair\n"
     ]
    }
   ],
   "source": [
    "# Program 18:\n",
    "\n",
    "def sum_of_devisors(n):\n",
    "    sum=0\n",
    "    for i in range(1,n):\n",
    "        if n%i == 0:\n",
    "            sum += i\n",
    "    return sum\n",
    "\n",
    "def check_amicable_numbers(n1, n2):\n",
    "    if n1==sum_of_devisors(n2) and n2==sum_of_devisors(n1):\n",
    "        return True\n",
    "    return False\n",
    "\n",
    "n1 = int(input(\"Enter first number: \"))\n",
    "n2 = int(input(\"Enter second number: \"))\n",
    "\n",
    "if check_amicable_numbers(n1, n2):\n",
    "    print(f\"'{n1}' and '{n2}' are amicable number pair\")\n",
    "\n",
    "else:\n",
    "    print(f\"'{n1}' and '{n2}' are not amicable number pair\")"
   ]
  }
 ],
 "metadata": {
  "kernelspec": {
   "display_name": "Python 3 (ipykernel)",
   "language": "python",
   "name": "python3"
  },
  "language_info": {
   "codemirror_mode": {
    "name": "ipython",
    "version": 3
   },
   "file_extension": ".py",
   "mimetype": "text/x-python",
   "name": "python",
   "nbconvert_exporter": "python",
   "pygments_lexer": "ipython3",
   "version": "3.8.10"
  }
 },
 "nbformat": 4,
 "nbformat_minor": 5
}
